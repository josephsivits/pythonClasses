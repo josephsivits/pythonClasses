{
 "cells": [
  {
   "cell_type": "code",
   "execution_count": 1,
   "metadata": {},
   "outputs": [],
   "source": [
    "import numpy as np\n",
    "import pandas as pd\n",
    "#Read the csv file\n",
    "FD=pd.read_csv(\"nobel_final.csv\")"
   ]
  },
  {
   "cell_type": "code",
   "execution_count": 2,
   "metadata": {},
   "outputs": [
    {
     "data": {
      "text/plain": [
       "<bound method NDFrame.describe of           firstname    surname born_country_code died_country_code  gender  \\\n",
       "0    Wilhelm Conrad    Röntgen                DE                DE    male   \n",
       "1        Hendrik A.    Lorentz                NL                NL    male   \n",
       "2            Pieter     Zeeman                NL                NL    male   \n",
       "3             Henri  Becquerel                FR                FR    male   \n",
       "4            Pierre      Curie                FR                FR    male   \n",
       "..              ...        ...               ...               ...     ...   \n",
       "918           Peter     Handke                AT               NaN    male   \n",
       "919            Abiy  Ahmed Ali                ET               NaN    male   \n",
       "920         Abhijit   Banerjee                IN               NaN    male   \n",
       "921          Esther      Duflo                FR               NaN  female   \n",
       "922         Michael     Kremer                US               NaN    male   \n",
       "\n",
       "     year    category  share  \\\n",
       "0    1901     physics      1   \n",
       "1    1902     physics      2   \n",
       "2    1902     physics      2   \n",
       "3    1903     physics      2   \n",
       "4    1903     physics      4   \n",
       "..    ...         ...    ...   \n",
       "918  2019  literature      1   \n",
       "919  2019       peace      1   \n",
       "920  2019   economics      3   \n",
       "921  2019   economics      3   \n",
       "922  2019   economics      3   \n",
       "\n",
       "                                    name_of_university city_of_university  \\\n",
       "0                                    Munich University             Munich   \n",
       "1                                    Leiden University             Leiden   \n",
       "2                                 Amsterdam University          Amsterdam   \n",
       "3                                  École Polytechnique              Paris   \n",
       "4    École municipale de physique et de chimie indu...              Paris   \n",
       "..                                                 ...                ...   \n",
       "918                                                NaN                NaN   \n",
       "919                                                NaN                NaN   \n",
       "920        Massachusetts Institute of Technology (MIT)       Cambridge MA   \n",
       "921        Massachusetts Institute of Technology (MIT)       Cambridge MA   \n",
       "922                                 Harvard University       Cambridge MA   \n",
       "\n",
       "    country_of_university born_month  age  age_get_prize  \n",
       "0                 Germany        Mar   78             56  \n",
       "1         the Netherlands        Jul   75             49  \n",
       "2         the Netherlands        May   78             37  \n",
       "3                  France        Dec   56             51  \n",
       "4                  France        May   47             44  \n",
       "..                    ...        ...  ...            ...  \n",
       "918                   NaN        Dec   78             77  \n",
       "919                   NaN        Aug   44             43  \n",
       "920                   USA        Feb   59             58  \n",
       "921                   USA        Oct   48             47  \n",
       "922                   USA        Nov   56             55  \n",
       "\n",
       "[923 rows x 14 columns]>"
      ]
     },
     "execution_count": 2,
     "metadata": {},
     "output_type": "execute_result"
    }
   ],
   "source": [
    "FD.describe"
   ]
  },
  {
   "cell_type": "code",
   "execution_count": 3,
   "metadata": {},
   "outputs": [
    {
     "data": {
      "text/html": [
       "<div>\n",
       "<style scoped>\n",
       "    .dataframe tbody tr th:only-of-type {\n",
       "        vertical-align: middle;\n",
       "    }\n",
       "\n",
       "    .dataframe tbody tr th {\n",
       "        vertical-align: top;\n",
       "    }\n",
       "\n",
       "    .dataframe thead th {\n",
       "        text-align: right;\n",
       "    }\n",
       "</style>\n",
       "<table border=\"1\" class=\"dataframe\">\n",
       "  <thead>\n",
       "    <tr style=\"text-align: right;\">\n",
       "      <th></th>\n",
       "      <th>firstname</th>\n",
       "      <th>surname</th>\n",
       "      <th>born_country_code</th>\n",
       "      <th>died_country_code</th>\n",
       "      <th>gender</th>\n",
       "      <th>category</th>\n",
       "      <th>name_of_university</th>\n",
       "      <th>city_of_university</th>\n",
       "      <th>country_of_university</th>\n",
       "      <th>born_month</th>\n",
       "    </tr>\n",
       "  </thead>\n",
       "  <tbody>\n",
       "    <tr>\n",
       "      <th>count</th>\n",
       "      <td>923</td>\n",
       "      <td>921</td>\n",
       "      <td>923</td>\n",
       "      <td>617</td>\n",
       "      <td>923</td>\n",
       "      <td>923</td>\n",
       "      <td>697</td>\n",
       "      <td>692</td>\n",
       "      <td>693</td>\n",
       "      <td>923</td>\n",
       "    </tr>\n",
       "    <tr>\n",
       "      <th>unique</th>\n",
       "      <td>704</td>\n",
       "      <td>866</td>\n",
       "      <td>79</td>\n",
       "      <td>46</td>\n",
       "      <td>2</td>\n",
       "      <td>6</td>\n",
       "      <td>307</td>\n",
       "      <td>186</td>\n",
       "      <td>29</td>\n",
       "      <td>12</td>\n",
       "    </tr>\n",
       "    <tr>\n",
       "      <th>top</th>\n",
       "      <td>John</td>\n",
       "      <td>Smith</td>\n",
       "      <td>US</td>\n",
       "      <td>US</td>\n",
       "      <td>male</td>\n",
       "      <td>medicine</td>\n",
       "      <td>University of California</td>\n",
       "      <td>Cambridge MA</td>\n",
       "      <td>USA</td>\n",
       "      <td>Jun</td>\n",
       "    </tr>\n",
       "    <tr>\n",
       "      <th>freq</th>\n",
       "      <td>12</td>\n",
       "      <td>5</td>\n",
       "      <td>274</td>\n",
       "      <td>224</td>\n",
       "      <td>869</td>\n",
       "      <td>219</td>\n",
       "      <td>32</td>\n",
       "      <td>50</td>\n",
       "      <td>358</td>\n",
       "      <td>88</td>\n",
       "    </tr>\n",
       "  </tbody>\n",
       "</table>\n",
       "</div>"
      ],
      "text/plain": [
       "       firstname surname born_country_code died_country_code gender  category  \\\n",
       "count        923     921               923               617    923       923   \n",
       "unique       704     866                79                46      2         6   \n",
       "top         John   Smith                US                US   male  medicine   \n",
       "freq          12       5               274               224    869       219   \n",
       "\n",
       "              name_of_university city_of_university country_of_university  \\\n",
       "count                        697                692                   693   \n",
       "unique                       307                186                    29   \n",
       "top     University of California       Cambridge MA                   USA   \n",
       "freq                          32                 50                   358   \n",
       "\n",
       "       born_month  \n",
       "count         923  \n",
       "unique         12  \n",
       "top           Jun  \n",
       "freq           88  "
      ]
     },
     "execution_count": 3,
     "metadata": {},
     "output_type": "execute_result"
    }
   ],
   "source": [
    "FD.describe(include=np.object)"
   ]
  },
  {
   "cell_type": "code",
   "execution_count": 8,
   "metadata": {},
   "outputs": [
    {
     "data": {
      "text/plain": [
       "medicine      219\n",
       "physics       213\n",
       "chemistry     184\n",
       "literature    116\n",
       "peace         107\n",
       "economics      84\n",
       "Name: category, dtype: int64"
      ]
     },
     "execution_count": 8,
     "metadata": {},
     "output_type": "execute_result"
    }
   ],
   "source": [
    "FD[\"category\"].value_counts()"
   ]
  },
  {
   "cell_type": "code",
   "execution_count": 11,
   "metadata": {},
   "outputs": [
    {
     "data": {
      "text/plain": [
       "male      262\n",
       "female     12\n",
       "Name: gender, dtype: int64"
      ]
     },
     "execution_count": 11,
     "metadata": {},
     "output_type": "execute_result"
    }
   ],
   "source": [
    "FD.loc[FD[\"born_country_code\"]==\"US\",\"gender\"].value_counts()"
   ]
  },
  {
   "cell_type": "code",
   "execution_count": 12,
   "metadata": {},
   "outputs": [
    {
     "data": {
      "text/plain": [
       "'Woodrow'"
      ]
     },
     "execution_count": 12,
     "metadata": {},
     "output_type": "execute_result"
    }
   ],
   "source": [
    "FD.loc[FD[\"born_country_code\"]==\"US\",\"firstname\"].max()"
   ]
  },
  {
   "cell_type": "code",
   "execution_count": null,
   "metadata": {},
   "outputs": [],
   "source": []
  }
 ],
 "metadata": {
  "kernelspec": {
   "display_name": "Python 3",
   "language": "python",
   "name": "python3"
  },
  "language_info": {
   "codemirror_mode": {
    "name": "ipython",
    "version": 3
   },
   "file_extension": ".py",
   "mimetype": "text/x-python",
   "name": "python",
   "nbconvert_exporter": "python",
   "pygments_lexer": "ipython3",
   "version": "3.8.5"
  }
 },
 "nbformat": 4,
 "nbformat_minor": 4
}
